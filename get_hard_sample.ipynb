{
 "cells": [
  {
   "cell_type": "markdown",
   "id": "85da479b-11b7-448a-87da-8114db7f6fa8",
   "metadata": {},
   "source": []
  },
  {
   "cell_type": "code",
   "execution_count": 1,
   "id": "12371bf0-3337-4731-9e16-cf8a5e65c14c",
   "metadata": {},
   "outputs": [],
   "source": [
    "import json\n",
    "import pandas as pd\n",
    "import numpy as np\n",
    "from datasets import load_dataset\n",
    "from FlagEmbedding import BGEM3FlagModel\n",
    "from FlagEmbedding import AbsEmbedder"
   ]
  },
  {
   "cell_type": "code",
   "execution_count": null,
   "id": "66394e65-6d6d-4237-97c2-11234f615702",
   "metadata": {},
   "outputs": [],
   "source": []
  },
  {
   "attachments": {},
   "cell_type": "markdown",
   "id": "376d0dc0-29ac-499c-b0d5-7ab65c94501c",
   "metadata": {},
   "source": [
    "#### 1、模型加载及向量库生成"
   ]
  },
  {
   "cell_type": "code",
   "execution_count": 2,
   "id": "1b0ea6db-8bf3-4ca5-a50f-12693f0463ad",
   "metadata": {},
   "outputs": [],
   "source": [
    "### 模型加载\n",
    "path=\"./huggingface/hub/models--BAAI--bge-m3/snapshots/5617a9f61b028005a4858fdac845db406aefb181\"\n",
    "### 替换为实际的BGE下载的地址\n",
    "model = BGEM3FlagModel(path,pooling_method='cls',use_fp16=False,return_sparse = True,trust_remote_code=True) # Setting use_fp16 to True speeds up computation with a slight performance degradation"
   ]
  },
  {
   "cell_type": "code",
   "execution_count": null,
   "id": "73a13ba2-0e55-44db-a6a6-23c68dd8e669",
   "metadata": {},
   "outputs": [],
   "source": []
  },
  {
   "cell_type": "code",
   "execution_count": 3,
   "id": "bcfe54b3-a97a-46d9-a2a3-b02309e64b8c",
   "metadata": {},
   "outputs": [
    {
     "name": "stderr",
     "output_type": "stream",
     "text": [
      "pre tokenize: 100%|██████████| 72/72 [00:02<00:00, 26.50it/s]\n",
      "You're using a XLMRobertaTokenizerFast tokenizer. Please note that with a fast tokenizer, using the `__call__` method is faster than using a method to encode the text followed by a call to the `pad` method to get a padded encoding.\n",
      "Inference Embeddings: 100%|██████████| 72/72 [01:08<00:00,  1.06it/s]\n"
     ]
    }
   ],
   "source": [
    "### 批量向量化并入库\n",
    "import pandas as pd\n",
    "data = pd.read_csv(\"./law_faq.csv\")\n",
    "data=data.dropna()\n",
    "\n",
    "query_list=list(data[\"title\"])\n",
    "reply=list(data[\"reply\"])\n",
    "\n",
    "from faiss_index import Faissindex\n",
    "#  采用暴力检索的方式，即计算查询向量与所有数据库向量之间的距离，然后返回相似度最高的前k个向量。\n",
    "#  归一化vectors\n",
    "knowledge_embedder=model.encode(reply)\n",
    "\n",
    "vectors=knowledge_embedder['dense_vecs']\n",
    "\n",
    "sl_fassi=Faissindex(1024)\n",
    "sl_fassi.create(vectors)"
   ]
  },
  {
   "cell_type": "code",
   "execution_count": null,
   "id": "74b754a3-22a1-42e8-903d-0d58654664ea",
   "metadata": {},
   "outputs": [],
   "source": []
  },
  {
   "cell_type": "code",
   "execution_count": 4,
   "id": "35a146f1-9d91-4718-8aa9-a4d43c7fad59",
   "metadata": {},
   "outputs": [
    {
     "name": "stdout",
     "output_type": "stream",
     "text": [
      "在法律中定金与订金的区别订金和定金哪个受\n",
      "“定金”是指当事人约定由一方向对方给付的，作为债权担保的一定数额的货币，它属于一种法律上的担保方式，目的在于促使债务人履行债务，保障债权人的债权得以实现。签合同时，对定金必需以书面形式进行约定，同时还应约定定金的数额和交付期限。给付定金一方如果不履行债务，无权要求另一方返还定金；接受定金的一方如果不履行债务，需向另一方双倍返还债务。债务人履行债务后，依照约定，定金应抵作价款或者收回。而“订金”目前我国法律没有明确规定，它不具备定金所具有的担保性质，可视为“预付款”，当合同不能履行时，除不可抗力外，应根据双方当事人的过错承担违约责任。\n",
      "[[ 5649  7522 10433 10574  9666]]\n"
     ]
    },
    {
     "data": {
      "text/plain": [
       "array(['我国法律认可”定金”，不认可”订金”。法律意义上:定金是指付款的担保，比如在买卖关系中，买*在签订合同后付给卖*部分款项，作为将来付款的担保，如果买*不履行合同，卖*可以不退还定金，如果卖*按照合同履行了供货义务，定金便折为货款，如果卖*没有按照合同履行供货义务，则应当承担双倍返还定金的责任。总而言之，定金是担保之意，也是法律中的用语。订金是一般被视为预付款，即使认定为一种履约保证，这种保证也是单*的，它只对给付*形成约束，即给付*对收受*的保证。若收受*违约，只能退回原订金，得不到双倍返还；若给付*违约，收受*会以种种理由把订金抵作赔偿金或违约金而不予退还。法律中，存在着定金罚则，而订金不适用该罚则。',\n",
       "       '订金定金和订金虽然读音一样，但却有本质区别。“定金”是指当事人约定由一方向对方给付的，作为债权担保的一定数额的货币，它属于一种法律上的担保方式，目的在于促使债务人履行债务，保障债权人的债权得以实现。签合同时，对定金必需以书面形式进行约定，同时还应约定定金的数额和交付期限。给付定金一方如果不履行债务，无权要求另一方返还定金；接受定金的一方如果不履行债务，需向另一方双倍返还债务。债务人履行债务后，依照约定，定金应抵作价款或者收回。而“订金”目前我国法律没有明确规定，它不具备定金所具有的担保性质，可视为“预付款”，当合同不能履行时，除不可抗力外，应根据双方当事人的过错承担违约责任。特别提示：并不是所有的“定金”都不能退还。我国《商品房销售管理办法》第22条规定：不符合商品房销售条件的，开发商不得销售商品房也不得收取任何预订款性质的费用。因此，如果商品房不符合销售条件，而购房者已经交纳了“定金”，那么无论双方是否约定“定金”退还事项，开发商都应无条件退还定金给购房者。此外，根据《最高人民法院关于审理商品房买卖合同纠纷案件适用法律若干问题的解释》第4条的规定，因不能归责于当事人双方的事由，导致商品房买卖合同未能订立的，出卖方也是应当返还定金的',\n",
       "       '“定金”指为保证合同的履行，消费者预先向家具销售者（卖方）交纳一定数额的钱款。合同上是“定金”的，依据《合同法》相关规定，一方违约时，双方有约定的按照约定执行；如果无约定，家具销售者违约时，“定金”双倍返还；消费者违约时，“定金”不返还。“定金”的总额不得超过合同标的的20%。而对“订金”，目前法律上没有明确规定，一般可视为“预付款”。“订金”的效力取决于双方当事人的约定。双方当事人如果没有约定，“订金”的性质主要是预付款，家具销售者违约时，应无条件退款；消费者违约时，可以与家具销售者协商解决并要求经营者退款。如果双方当事人另有约定，则按照约定执行。定金与订金的区别，主要表现在：一、交付定金的协议是从合同，依约定应交付定金而未交付的，不构成对主合同的违反；而交付订金的协议是主合同的一部分，依约定应交付订金而未交付的，即构成对主合同的违反。二、交付和收受订金的当事人一方不履行合同债务时，不发生丧失或者双倍返还预付款的后果，订金仅可作损害赔偿金。三、定金的数额在法律规定上有一定限制，例如《担保法》就规定定金数额不超过主合同标的额的20％；而订金的数额依当事人之间自由约定，法律一般不作限制。四、定金具有担保性质，而订金只是单方行为，不具有担保性质。',\n",
       "       '定金和订金虽然读音一样，但却有本质区别。“定金”是指当事人约定由一方向对方给付的，作为债权担保的一定数额的货币，它属于一种法律上的担保方式，目的在于促使债务人履行债务，保障债权人的债权得以实现。签合同时，对定金必需以书面形式进行约定，同时还应约定定金的数额和交付期限。给付定金一方如果不履行债务，无权要求另一方返还定金；接受定金的一方如果不履行债务，需向另一方双倍返还债务。债务人履行债务后，依照约定，定金应抵作价款或者收回。而“订金”目前我国法律没有明确规定，它不具备定金所具有的担保性质，可视为“预付款”，当合同不能履行时，除不可抗力外，应根据双方当事人的过错承担违约责任。特别提示：并不是所有的“定金”都不能退还。我国《商品房销售管理办法》第22条规定：不符合商品房销售条件的，开发商不得销售商品房也不得收取任何预订款性质的费用。因此，如果商品房不符合销售条件，而购房者已经交纳了“定金”，那么无论双方是否约定“定金”退还事项，开发商都应无条件退还定金给购房者。此外，根据《最高人民法院关于审理商品房买卖合同纠纷案件适用法律若干问题的解释》第4条的规定，因不能归责于当事人双方的事由，导致商品房买卖合同未能订立的，出卖方也是应当返还定金的',\n",
       "       '定金和订金虽然读音一样，但却有本质区别。“定金”是指当事人约定由一方向对方给付的，作为债权担保的一定数额的货币，它属于一种法律上的担保方式，目的在于促使债务人履行债务，保障债权人的债权得以实现。签合同时，对定金必需以书面形式进行约定，同时还应约定定金的数额和交付期限。给付定金一方如果不履行债务，无权要求另一方返还定金；接受定金的一方如果不履行债务，需向另一方双倍返还债务。债务人履行债务后，依照约定，定金应抵作价款或者收回。而“订金”目前我国法律没有明确规定，它不具备定金所具有的担保性质，可视为“预付款”，当合同不能履行时，除不可抗力外，应根据双方当事人的过错承担违约责任。特别提示：并不是所有的“定金”都不能退还。我国《商品房销售管理办法》第22条规定：不符合商品房销售条件的，开发商不得销售商品房也不得收取任何预订款性质的费用。因此，如果商品房不符合销售条件，而购房者已经交纳了“定金”，那么无论双方是否约定“定金”退还事项，开发商都应无条件退还定金给购房者。此外，根据《最高人民法院关于审理商品房买卖合同纠纷案件适用法律若干问题的解释》第4条的规定，因不能归责于当事人双方的事由，导致商品房买卖合同未能订立的，出卖方也是应当返还定金的'],\n",
       "      dtype=object)"
      ]
     },
     "execution_count": 4,
     "metadata": {},
     "output_type": "execute_result"
    }
   ],
   "source": [
    "### 检索的例子\n",
    "### 对于i的结果进行测试：\n",
    "i=0\n",
    "print(query_list[i])\n",
    "print(reply[i])\n",
    "\n",
    "vectors_single_test=np.reshape(model.encode(query_list[i]).get('dense_vecs'), (1, -1))\n",
    "scores_test,index_test=sl_fassi.search(vectors_single_test,5)\n",
    "\n",
    "print(index_test)\n",
    "topk_result = data[\"reply\"].values[index_test[0].tolist()]\n",
    "topk_result"
   ]
  },
  {
   "attachments": {},
   "cell_type": "markdown",
   "id": "10c179ca-c7b9-42f4-baf1-4fbeb6752396",
   "metadata": {},
   "source": []
  },
  {
   "cell_type": "code",
   "execution_count": null,
   "id": "78dfaa09-ebc4-4c7a-ad09-b408c2d35b8b",
   "metadata": {},
   "outputs": [],
   "source": []
  },
  {
   "cell_type": "markdown",
   "id": "d5d1154e-00c6-4554-82f7-d118d47e74ea",
   "metadata": {},
   "source": [
    "#### 2、计算原模型的前30位的计算错误比例"
   ]
  },
  {
   "cell_type": "code",
   "execution_count": 5,
   "id": "39aae404-d633-42fa-bf29-b43379a4599e",
   "metadata": {},
   "outputs": [
    {
     "name": "stderr",
     "output_type": "stream",
     "text": [
      "Processing queries: 18208it [05:17, 57.32it/s]\n"
     ]
    },
    {
     "name": "stdout",
     "output_type": "stream",
     "text": [
      "Bench为10的情况下，错误比例为：55.89850615114236%\n"
     ]
    },
    {
     "name": "stderr",
     "output_type": "stream",
     "text": [
      "Processing queries: 18208it [05:08, 59.00it/s]\n"
     ]
    },
    {
     "name": "stdout",
     "output_type": "stream",
     "text": [
      "Bench为20的情况下，错误比例为：48.72583479789104%\n"
     ]
    },
    {
     "name": "stderr",
     "output_type": "stream",
     "text": [
      "Processing queries: 18208it [05:11, 58.51it/s]"
     ]
    },
    {
     "name": "stdout",
     "output_type": "stream",
     "text": [
      "Bench为30的情况下，错误比例为：44.172891036906854%\n"
     ]
    },
    {
     "name": "stderr",
     "output_type": "stream",
     "text": [
      "\n"
     ]
    }
   ],
   "source": [
    "### 计算结果：\n",
    "\n",
    "from tqdm import tqdm\n",
    "bench_select=[10,20,30]\n",
    "\n",
    "for bench in  bench_select:\n",
    "    wrong_index=[]\n",
    "    \n",
    "    for i, query_x in tqdm(enumerate(query_list), desc=\"Processing queries\"):\n",
    "        ## 进行检索：\n",
    "        vectors_single=model.encode(query_x).get('dense_vecs')\n",
    "        vectors_single=np.reshape(vectors_single, (1, -1))\n",
    "        scores, indexes=sl_fassi.search(vectors_single,bench)\n",
    "        is_corr=0\n",
    "        for index in indexes[0]:\n",
    "            if bool(index==i):\n",
    "                is_corr=is_corr+1\n",
    "        if is_corr==0:\n",
    "            wrong_index.append(i)\n",
    "            \n",
    "    print(f\"Bench为{bench}的情况下，错误比例为：{len(wrong_index)/len(query_list)*100}%\")"
   ]
  },
  {
   "cell_type": "code",
   "execution_count": null,
   "id": "0f6b04fc-57ea-4d05-9da1-6bfc6ede28cd",
   "metadata": {},
   "outputs": [],
   "source": []
  },
  {
   "cell_type": "code",
   "execution_count": null,
   "id": "21b013de-8e78-4933-b8c7-f5fccc2521ad",
   "metadata": {},
   "outputs": [],
   "source": []
  },
  {
   "cell_type": "markdown",
   "id": "c040fbc0-b401-4837-856d-a547a408d51c",
   "metadata": {},
   "source": [
    "#### 3、困难负样本的构造"
   ]
  },
  {
   "cell_type": "code",
   "execution_count": null,
   "id": "97244804-0227-490d-b8fd-a6c036d7b23b",
   "metadata": {},
   "outputs": [],
   "source": [
    "\n",
    "#### 构造的思路为：对于30位排序以外的样本随机取20个作为困难负样本\n",
    "\n",
    "from tqdm import tqdm\n",
    "len_data=data.shape[0]\n",
    "\n",
    "for i in tqdm(range(len_data), desc=\"Processing queries\"):\n",
    "    query=query_list[i]\n",
    "    pos=[]\n",
    "    pos.append(reply[i])\n",
    "\n",
    "    vectorssingle=np.reshape(model.encode(query).get('dense_vecs'), (1, -1))\n",
    "    scores_neg,index_neg=sl_fassi.search(vectorssingle,60)\n",
    "    index_neg=list(index_neg[0])[30:]\n",
    "\n",
    "    ## 预测正确的情况\n",
    "    try:\n",
    "        result_list=[int(x) for x in index_neg]\n",
    "        result_list.remove(i)\n",
    "        neg= list(data[\"reply\"].values[result_list][0:20])\n",
    "    except ValueError:\n",
    "        result_list=[int(x) for x in index_neg]\n",
    "        neg=list(data[\"reply\"].values[result_list][0:20])\n",
    "        \n",
    "    with open(\"/root/autodl-tmp/2025-project/BGE/ana_data_2/all_samples.jsonl\",\"a\", encoding=\"utf-8\") as f:\n",
    "        record={\"query\":query,\n",
    "                \"pos\":pos,\n",
    "                \"neg\": neg}\n",
    "        f.write(json.dumps(record, ensure_ascii=False) + \"\\n\")"
   ]
  },
  {
   "cell_type": "code",
   "execution_count": null,
   "id": "bf67c12e-573b-4496-b4db-86c4f0a056e3",
   "metadata": {},
   "outputs": [],
   "source": []
  },
  {
   "cell_type": "code",
   "execution_count": null,
   "id": "e8b1774d-a2b6-4652-8d79-b82b4b7c6e85",
   "metadata": {},
   "outputs": [],
   "source": []
  },
  {
   "cell_type": "code",
   "execution_count": null,
   "id": "6c39a01c-531a-4114-b995-de036ab8d46d",
   "metadata": {},
   "outputs": [],
   "source": []
  },
  {
   "cell_type": "code",
   "execution_count": null,
   "id": "fe3100ec-603c-4b96-87b0-1bfcaf0d94b0",
   "metadata": {},
   "outputs": [],
   "source": []
  },
  {
   "cell_type": "code",
   "execution_count": null,
   "id": "3f16e830-8141-479d-b9d2-b60e45f54fb4",
   "metadata": {},
   "outputs": [],
   "source": []
  }
 ],
 "metadata": {
  "kernelspec": {
   "display_name": "Python 3 (ipykernel)",
   "language": "python",
   "name": "python3"
  },
  "language_info": {
   "codemirror_mode": {
    "name": "ipython",
    "version": 3
   },
   "file_extension": ".py",
   "mimetype": "text/x-python",
   "name": "python",
   "nbconvert_exporter": "python",
   "pygments_lexer": "ipython3",
   "version": "3.12.3"
  }
 },
 "nbformat": 4,
 "nbformat_minor": 5
}
